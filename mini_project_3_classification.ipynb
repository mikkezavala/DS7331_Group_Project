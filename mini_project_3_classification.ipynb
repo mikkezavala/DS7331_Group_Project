{
 "cells": [
  {
   "cell_type": "code",
   "execution_count": 1,
   "id": "762a443cb7aba29f",
   "metadata": {
    "ExecuteTime": {
     "end_time": "2025-06-28T04:07:52.714367Z",
     "start_time": "2025-06-28T04:07:48.943839Z"
    },
    "execution": {
     "iopub.execute_input": "2025-06-29T03:20:05.136996Z",
     "iopub.status.busy": "2025-06-29T03:20:05.136881Z",
     "iopub.status.idle": "2025-06-29T03:20:06.124443Z",
     "shell.execute_reply": "2025-06-29T03:20:06.124025Z"
    }
   },
   "outputs": [],
   "source": [
    "import numpy as np\n",
    "import pandas as pd\n",
    "import matplotlib.pyplot as plt\n",
    "import seaborn as sns\n",
    "import warnings\n",
    "warnings.filterwarnings(\"ignore\")\n",
    "\n",
    "from sklearn.model_selection import train_test_split, GridSearchCV\n",
    "from sklearn.preprocessing import StandardScaler, LabelEncoder\n",
    "from sklearn.tree import DecisionTreeClassifier\n",
    "from sklearn.ensemble import RandomForestClassifier\n",
    "from sklearn.neighbors import KNeighborsClassifier\n",
    "from sklearn.metrics import accuracy_score, f1_score, precision_score, recall_score, roc_auc_score, confusion_matrix\n",
    "import time\n",
    "\n",
    "%matplotlib inline"
   ]
  },
  {
   "cell_type": "code",
   "execution_count": 2,
   "id": "456039e1c253cee3",
   "metadata": {
    "ExecuteTime": {
     "end_time": "2025-06-28T04:09:39.367134Z",
     "start_time": "2025-06-28T04:09:38.294861Z"
    },
    "execution": {
     "iopub.execute_input": "2025-06-29T03:20:06.126262Z",
     "iopub.status.busy": "2025-06-29T03:20:06.126094Z",
     "iopub.status.idle": "2025-06-29T03:20:09.538021Z",
     "shell.execute_reply": "2025-06-29T03:20:09.537781Z"
    }
   },
   "outputs": [
    {
     "name": "stdout",
     "output_type": "stream",
     "text": [
      "Dataset shape: (235795, 55)\n",
      "Label distribution: label\n",
      "1    0.572\n",
      "0    0.428\n",
      "Name: proportion, dtype: float64\n"
     ]
    },
    {
     "data": {
      "text/html": [
       "<div>\n",
       "<style scoped>\n",
       "    .dataframe tbody tr th:only-of-type {\n",
       "        vertical-align: middle;\n",
       "    }\n",
       "\n",
       "    .dataframe tbody tr th {\n",
       "        vertical-align: top;\n",
       "    }\n",
       "\n",
       "    .dataframe thead th {\n",
       "        text-align: right;\n",
       "    }\n",
       "</style>\n",
       "<table border=\"1\" class=\"dataframe\">\n",
       "  <thead>\n",
       "    <tr style=\"text-align: right;\">\n",
       "      <th></th>\n",
       "      <th>URL</th>\n",
       "      <th>URLLength</th>\n",
       "      <th>Domain</th>\n",
       "      <th>DomainLength</th>\n",
       "      <th>IsDomainIP</th>\n",
       "      <th>TLD</th>\n",
       "      <th>URLSimilarityIndex</th>\n",
       "      <th>CharContinuationRate</th>\n",
       "      <th>TLDLegitimateProb</th>\n",
       "      <th>URLCharProb</th>\n",
       "      <th>...</th>\n",
       "      <th>Pay</th>\n",
       "      <th>Crypto</th>\n",
       "      <th>HasCopyrightInfo</th>\n",
       "      <th>NoOfImage</th>\n",
       "      <th>NoOfCSS</th>\n",
       "      <th>NoOfJS</th>\n",
       "      <th>NoOfSelfRef</th>\n",
       "      <th>NoOfEmptyRef</th>\n",
       "      <th>NoOfExternalRef</th>\n",
       "      <th>label</th>\n",
       "    </tr>\n",
       "  </thead>\n",
       "  <tbody>\n",
       "    <tr>\n",
       "      <th>0</th>\n",
       "      <td>https://www.southbankmosaics.com</td>\n",
       "      <td>31</td>\n",
       "      <td>www.southbankmosaics.com</td>\n",
       "      <td>24</td>\n",
       "      <td>0</td>\n",
       "      <td>com</td>\n",
       "      <td>100.0</td>\n",
       "      <td>1.000000</td>\n",
       "      <td>0.522907</td>\n",
       "      <td>0.061933</td>\n",
       "      <td>...</td>\n",
       "      <td>0</td>\n",
       "      <td>0</td>\n",
       "      <td>1</td>\n",
       "      <td>34</td>\n",
       "      <td>20</td>\n",
       "      <td>28</td>\n",
       "      <td>119</td>\n",
       "      <td>0</td>\n",
       "      <td>124</td>\n",
       "      <td>1</td>\n",
       "    </tr>\n",
       "    <tr>\n",
       "      <th>1</th>\n",
       "      <td>https://www.uni-mainz.de</td>\n",
       "      <td>23</td>\n",
       "      <td>www.uni-mainz.de</td>\n",
       "      <td>16</td>\n",
       "      <td>0</td>\n",
       "      <td>de</td>\n",
       "      <td>100.0</td>\n",
       "      <td>0.666667</td>\n",
       "      <td>0.032650</td>\n",
       "      <td>0.050207</td>\n",
       "      <td>...</td>\n",
       "      <td>0</td>\n",
       "      <td>0</td>\n",
       "      <td>1</td>\n",
       "      <td>50</td>\n",
       "      <td>9</td>\n",
       "      <td>8</td>\n",
       "      <td>39</td>\n",
       "      <td>0</td>\n",
       "      <td>217</td>\n",
       "      <td>1</td>\n",
       "    </tr>\n",
       "    <tr>\n",
       "      <th>2</th>\n",
       "      <td>https://www.voicefmradio.co.uk</td>\n",
       "      <td>29</td>\n",
       "      <td>www.voicefmradio.co.uk</td>\n",
       "      <td>22</td>\n",
       "      <td>0</td>\n",
       "      <td>uk</td>\n",
       "      <td>100.0</td>\n",
       "      <td>0.866667</td>\n",
       "      <td>0.028555</td>\n",
       "      <td>0.064129</td>\n",
       "      <td>...</td>\n",
       "      <td>0</td>\n",
       "      <td>0</td>\n",
       "      <td>1</td>\n",
       "      <td>10</td>\n",
       "      <td>2</td>\n",
       "      <td>7</td>\n",
       "      <td>42</td>\n",
       "      <td>2</td>\n",
       "      <td>5</td>\n",
       "      <td>1</td>\n",
       "    </tr>\n",
       "    <tr>\n",
       "      <th>3</th>\n",
       "      <td>https://www.sfnmjournal.com</td>\n",
       "      <td>26</td>\n",
       "      <td>www.sfnmjournal.com</td>\n",
       "      <td>19</td>\n",
       "      <td>0</td>\n",
       "      <td>com</td>\n",
       "      <td>100.0</td>\n",
       "      <td>1.000000</td>\n",
       "      <td>0.522907</td>\n",
       "      <td>0.057606</td>\n",
       "      <td>...</td>\n",
       "      <td>1</td>\n",
       "      <td>1</td>\n",
       "      <td>1</td>\n",
       "      <td>3</td>\n",
       "      <td>27</td>\n",
       "      <td>15</td>\n",
       "      <td>22</td>\n",
       "      <td>1</td>\n",
       "      <td>31</td>\n",
       "      <td>1</td>\n",
       "    </tr>\n",
       "    <tr>\n",
       "      <th>4</th>\n",
       "      <td>https://www.rewildingargentina.org</td>\n",
       "      <td>33</td>\n",
       "      <td>www.rewildingargentina.org</td>\n",
       "      <td>26</td>\n",
       "      <td>0</td>\n",
       "      <td>org</td>\n",
       "      <td>100.0</td>\n",
       "      <td>1.000000</td>\n",
       "      <td>0.079963</td>\n",
       "      <td>0.059441</td>\n",
       "      <td>...</td>\n",
       "      <td>1</td>\n",
       "      <td>0</td>\n",
       "      <td>1</td>\n",
       "      <td>244</td>\n",
       "      <td>15</td>\n",
       "      <td>34</td>\n",
       "      <td>72</td>\n",
       "      <td>1</td>\n",
       "      <td>85</td>\n",
       "      <td>1</td>\n",
       "    </tr>\n",
       "  </tbody>\n",
       "</table>\n",
       "<p>5 rows × 55 columns</p>\n",
       "</div>"
      ],
      "text/plain": [
       "                                  URL  URLLength                      Domain  \\\n",
       "0    https://www.southbankmosaics.com         31    www.southbankmosaics.com   \n",
       "1            https://www.uni-mainz.de         23            www.uni-mainz.de   \n",
       "2      https://www.voicefmradio.co.uk         29      www.voicefmradio.co.uk   \n",
       "3         https://www.sfnmjournal.com         26         www.sfnmjournal.com   \n",
       "4  https://www.rewildingargentina.org         33  www.rewildingargentina.org   \n",
       "\n",
       "   DomainLength  IsDomainIP  TLD  URLSimilarityIndex  CharContinuationRate  \\\n",
       "0            24           0  com               100.0              1.000000   \n",
       "1            16           0   de               100.0              0.666667   \n",
       "2            22           0   uk               100.0              0.866667   \n",
       "3            19           0  com               100.0              1.000000   \n",
       "4            26           0  org               100.0              1.000000   \n",
       "\n",
       "   TLDLegitimateProb  URLCharProb  ...  Pay  Crypto  HasCopyrightInfo  \\\n",
       "0           0.522907     0.061933  ...    0       0                 1   \n",
       "1           0.032650     0.050207  ...    0       0                 1   \n",
       "2           0.028555     0.064129  ...    0       0                 1   \n",
       "3           0.522907     0.057606  ...    1       1                 1   \n",
       "4           0.079963     0.059441  ...    1       0                 1   \n",
       "\n",
       "   NoOfImage  NoOfCSS  NoOfJS  NoOfSelfRef  NoOfEmptyRef  NoOfExternalRef  \\\n",
       "0         34       20      28          119             0              124   \n",
       "1         50        9       8           39             0              217   \n",
       "2         10        2       7           42             2                5   \n",
       "3          3       27      15           22             1               31   \n",
       "4        244       15      34           72             1               85   \n",
       "\n",
       "   label  \n",
       "0      1  \n",
       "1      1  \n",
       "2      1  \n",
       "3      1  \n",
       "4      1  \n",
       "\n",
       "[5 rows x 55 columns]"
      ]
     },
     "execution_count": 2,
     "metadata": {},
     "output_type": "execute_result"
    }
   ],
   "source": [
    "# Load dataset\n",
    "url = \"https://archive.ics.uci.edu/static/public/967/phiusiil+phishing+url+dataset.zip\"\n",
    "df = pd.read_csv(url, encoding=\"utf-8\")\n",
    "df = df.drop(\"FILENAME\", axis=1)\n",
    "print(f\"Dataset shape: {df.shape}\")\n",
    "print(f\"Label distribution: {df['label'].value_counts(normalize=True).round(3)}\")\n",
    "df.head()"
   ]
  },
  {
   "cell_type": "markdown",
   "id": "0d7c1634",
   "metadata": {},
   "source": [
    "# Feature Engineering"
   ]
  },
  {
   "cell_type": "code",
   "execution_count": 3,
   "id": "1dedeb03",
   "metadata": {
    "execution": {
     "iopub.execute_input": "2025-06-29T03:20:09.539239Z",
     "iopub.status.busy": "2025-06-29T03:20:09.539161Z",
     "iopub.status.idle": "2025-06-29T03:20:09.780690Z",
     "shell.execute_reply": "2025-06-29T03:20:09.780413Z"
    }
   },
   "outputs": [
    {
     "name": "stdout",
     "output_type": "stream",
     "text": [
      "Features: 55, Samples: 235,795\n",
      "Added features: 5\n"
     ]
    }
   ],
   "source": [
    "# Extract numeric features\n",
    "numeric_cols = df.select_dtypes(include=[np.number]).columns.tolist()\n",
    "numeric_cols.remove('label')\n",
    "X_numeric = df[numeric_cols].copy()\n",
    "\n",
    "# TLD feature engineering\n",
    "tld_phishing = df.groupby('TLD')['label'].agg(['count', 'mean'])\n",
    "tld_phishing = tld_phishing.sort_values(by=['mean'], ascending=False)\n",
    "\n",
    "tld_counts = df['TLD'].value_counts()\n",
    "X_numeric['tld_frequency'] = df['TLD'].map(tld_counts.to_dict())\n",
    "X_numeric['tld_frequency'] = pd.cut(X_numeric['tld_frequency'], \n",
    "                                   bins=[0, 10, 100, 1000, np.inf], \n",
    "                                   labels=[0, 1, 2, 3]).astype(int)\n",
    "\n",
    "high_phish_tlds = tld_phishing[tld_phishing['mean'] > 0.9].index.tolist()\n",
    "X_numeric['is_high_phish_tld'] = df['TLD'].isin(high_phish_tlds).astype(int)\n",
    "\n",
    "# Domain feature engineering\n",
    "domain_counts = df['Domain'].value_counts()\n",
    "X_numeric['domain_frequency'] = df['Domain'].map(domain_counts.to_dict())\n",
    "X_numeric['domain_frequency'] = pd.cut(X_numeric['domain_frequency'], \n",
    "                                      bins=[0, 1, 5, 50, np.inf], \n",
    "                                      labels=[0, 1, 2, 3])\n",
    "X_numeric['domain_frequency'] = X_numeric['domain_frequency'].astype(int)\n",
    "\n",
    "# Title feature engineering\n",
    "title_counts = df['Title'].value_counts()\n",
    "X_numeric['title_frequency'] = df['Title'].map(title_counts.to_dict())\n",
    "X_numeric['title_frequency'] = pd.cut(X_numeric['title_frequency'], \n",
    "                                     bins=[0, 1, 5, np.inf], \n",
    "                                     labels=[0, 1, 2]).astype(int)\n",
    "X_numeric['title_length'] = df['Title'].str.len()\n",
    "\n",
    "# Handle remaining categorical columns\n",
    "remaining_categorical = df.select_dtypes(include=['object']).columns.tolist()\n",
    "remaining_categorical = [col for col in remaining_categorical if col not in ['URL', 'Domain', 'TLD', 'Title', 'label']]\n",
    "\n",
    "if len(remaining_categorical) > 0:\n",
    "    le = LabelEncoder()\n",
    "    for col in remaining_categorical:\n",
    "        X_numeric[col] = le.fit_transform(df[col].astype(str))\n",
    "\n",
    "X = X_numeric\n",
    "y = df['label']\n",
    "\n",
    "print(f\"Features: {X.shape[1]}, Samples: {X.shape[0]:,}\")\n",
    "print(f\"Added features: {len([col for col in X.columns if col.startswith(('tld_', 'domain_', 'title_', 'is_'))])}\")"
   ]
  },
  {
   "cell_type": "markdown",
   "id": "28447d2e",
   "metadata": {},
   "source": [
    "# Data Splitting and Scaling"
   ]
  },
  {
   "cell_type": "code",
   "execution_count": 4,
   "id": "13e9d60d",
   "metadata": {
    "execution": {
     "iopub.execute_input": "2025-06-29T03:20:09.781900Z",
     "iopub.status.busy": "2025-06-29T03:20:09.781831Z",
     "iopub.status.idle": "2025-06-29T03:20:09.920425Z",
     "shell.execute_reply": "2025-06-29T03:20:09.920179Z"
    }
   },
   "outputs": [
    {
     "name": "stdout",
     "output_type": "stream",
     "text": [
      "Train: 141,477 | Val: 47,159 | Test: 47,159\n"
     ]
    }
   ],
   "source": [
    "# Train/validation/test split (60/20/20)\n",
    "X_temp, X_test, y_temp, y_test = train_test_split(X, y, test_size=0.2, random_state=42, stratify=y)\n",
    "X_train, X_val, y_train, y_val = train_test_split(X_temp, y_temp, test_size=0.25, random_state=42, stratify=y_temp)\n",
    "\n",
    "print(f\"Train: {len(X_train):,} | Val: {len(X_val):,} | Test: {len(X_test):,}\")\n",
    "\n",
    "# Standardize features\n",
    "scaler = StandardScaler()\n",
    "X_train_scaled = scaler.fit_transform(X_train)\n",
    "X_val_scaled = scaler.transform(X_val)\n",
    "X_test_scaled = scaler.transform(X_test)"
   ]
  },
  {
   "cell_type": "code",
   "execution_count": 5,
   "id": "047c45f8",
   "metadata": {
    "execution": {
     "iopub.execute_input": "2025-06-29T03:20:09.921603Z",
     "iopub.status.busy": "2025-06-29T03:20:09.921523Z",
     "iopub.status.idle": "2025-06-29T03:20:09.924725Z",
     "shell.execute_reply": "2025-06-29T03:20:09.924492Z"
    }
   },
   "outputs": [],
   "source": [
    "def evaluate_model(name, model, X_train, X_val, X_test, y_train, y_val, y_test):\n",
    "    start_time = time.time()\n",
    "    model.fit(X_train, y_train)\n",
    "    training_time = time.time() - start_time\n",
    "    \n",
    "    val_pred = model.predict(X_val)\n",
    "    test_pred = model.predict(X_test)\n",
    "    \n",
    "    try:\n",
    "        val_proba = model.predict_proba(X_val)[:, 1]\n",
    "        test_proba = model.predict_proba(X_test)[:, 1]\n",
    "        val_auc = roc_auc_score(y_val, val_proba)\n",
    "        test_auc = roc_auc_score(y_test, test_proba)\n",
    "    except:\n",
    "        val_auc = test_auc = None\n",
    "    \n",
    "    val_acc = accuracy_score(y_val, val_pred)\n",
    "    test_acc = accuracy_score(y_test, test_pred)\n",
    "    val_f1 = f1_score(y_val, val_pred)\n",
    "    test_f1 = f1_score(y_test, test_pred)\n",
    "    val_precision = precision_score(y_val, val_pred)\n",
    "    test_precision = precision_score(y_test, test_pred)\n",
    "    val_recall = recall_score(y_val, val_pred)\n",
    "    test_recall = recall_score(y_test, test_pred)\n",
    "    \n",
    "    tn, fp, fn, tp = confusion_matrix(y_test, test_pred).ravel()\n",
    "    specificity = tn / (tn + fp)\n",
    "    npv = tn / (tn + fn) if (tn + fn) > 0 else 0\n",
    "    \n",
    "    print(f\"{name}:\")\n",
    "    print(f\"  Val: Acc={val_acc:.4f}, F1={val_f1:.4f}, Prec={val_precision:.4f}, Rec={val_recall:.4f}\" + \n",
    "          (f\", AUC={val_auc:.4f}\" if val_auc else \"\"))\n",
    "    print(f\"  Test: Acc={test_acc:.4f}, F1={test_f1:.4f}, Prec={test_precision:.4f}, Rec={test_recall:.4f}\" + \n",
    "          (f\", AUC={test_auc:.4f}\" if test_auc else \"\"))\n",
    "    print(f\"  Additional: Specificity={specificity:.4f}, NPV={npv:.4f}, Time={training_time:.3f}s\")\n",
    "    \n",
    "    return {\n",
    "        'val_acc': val_acc, 'test_acc': test_acc,\n",
    "        'val_f1': val_f1, 'test_f1': test_f1,\n",
    "        'val_precision': val_precision, 'test_precision': test_precision,\n",
    "        'val_recall': val_recall, 'test_recall': test_recall,\n",
    "        'val_auc': val_auc, 'test_auc': test_auc,\n",
    "        'specificity': specificity, 'npv': npv,\n",
    "        'training_time': training_time\n",
    "    }\n",
    "\n",
    "results = {}"
   ]
  },
  {
   "cell_type": "markdown",
   "id": "a10a24c5",
   "metadata": {},
   "source": [
    "# Decision Tree"
   ]
  },
  {
   "cell_type": "code",
   "execution_count": 6,
   "id": "e5e5879a",
   "metadata": {
    "execution": {
     "iopub.execute_input": "2025-06-29T03:20:09.925829Z",
     "iopub.status.busy": "2025-06-29T03:20:09.925755Z",
     "iopub.status.idle": "2025-06-29T03:20:10.178246Z",
     "shell.execute_reply": "2025-06-29T03:20:10.178016Z"
    }
   },
   "outputs": [
    {
     "name": "stdout",
     "output_type": "stream",
     "text": [
      "Decision Tree:\n",
      "  Val: Acc=0.9998, F1=0.9998, Prec=0.9996, Rec=1.0000, AUC=1.0000\n",
      "  Test: Acc=0.9997, F1=0.9998, Prec=0.9996, Rec=1.0000, AUC=1.0000\n",
      "  Additional: Specificity=0.9994, NPV=1.0000, Time=0.238s\n"
     ]
    }
   ],
   "source": [
    "dt_model = DecisionTreeClassifier(max_depth=15, min_samples_split=50, min_samples_leaf=20, random_state=42)\n",
    "results['Decision Tree'] = evaluate_model('Decision Tree', dt_model, X_train_scaled, X_val_scaled, X_test_scaled, y_train, y_val, y_test)"
   ]
  },
  {
   "cell_type": "markdown",
   "id": "1f638137",
   "metadata": {},
   "source": [
    "# Random Forest"
   ]
  },
  {
   "cell_type": "code",
   "execution_count": 7,
   "id": "2151a46f",
   "metadata": {
    "execution": {
     "iopub.execute_input": "2025-06-29T03:20:10.179470Z",
     "iopub.status.busy": "2025-06-29T03:20:10.179401Z",
     "iopub.status.idle": "2025-06-29T03:20:10.986013Z",
     "shell.execute_reply": "2025-06-29T03:20:10.985736Z"
    }
   },
   "outputs": [
    {
     "name": "stdout",
     "output_type": "stream",
     "text": [
      "Random Forest:\n",
      "  Val: Acc=1.0000, F1=1.0000, Prec=1.0000, Rec=1.0000, AUC=1.0000\n",
      "  Test: Acc=1.0000, F1=1.0000, Prec=0.9999, Rec=1.0000, AUC=1.0000\n",
      "  Additional: Specificity=0.9999, NPV=1.0000, Time=0.737s\n"
     ]
    }
   ],
   "source": [
    "rf_model = RandomForestClassifier(n_estimators=100, max_depth=20, min_samples_split=50, min_samples_leaf=20, random_state=42, n_jobs=-1)\n",
    "results['Random Forest'] = evaluate_model('Random Forest', rf_model, X_train_scaled, X_val_scaled, X_test_scaled, y_train, y_val, y_test)"
   ]
  },
  {
   "cell_type": "markdown",
   "id": "c595e9ec",
   "metadata": {},
   "source": [
    "# K-Nearest Neighbors with Hyperparameter Tuning"
   ]
  },
  {
   "cell_type": "code",
   "execution_count": 8,
   "id": "fa0cbe76",
   "metadata": {
    "execution": {
     "iopub.execute_input": "2025-06-29T03:20:10.987277Z",
     "iopub.status.busy": "2025-06-29T03:20:10.987202Z",
     "iopub.status.idle": "2025-06-29T03:20:43.602888Z",
     "shell.execute_reply": "2025-06-29T03:20:43.602458Z"
    }
   },
   "outputs": [
    {
     "name": "stdout",
     "output_type": "stream",
     "text": [
      "Best K: 3, CV Score: 0.9985\n",
      "KNN:\n",
      "  Val: Acc=0.9988, F1=0.9990, Prec=0.9982, Rec=0.9997, AUC=0.9993\n",
      "  Test: Acc=0.9986, F1=0.9988, Prec=0.9981, Rec=0.9994, AUC=0.9992\n",
      "  Additional: Specificity=0.9974, NPV=0.9993, Time=0.011s\n"
     ]
    }
   ],
   "source": [
    "param_grid = {'n_neighbors': [3, 5, 7, 9, 11]}\n",
    "knn_base = KNeighborsClassifier(weights='distance', algorithm='auto', n_jobs=-1)\n",
    "\n",
    "grid_search = GridSearchCV(knn_base, param_grid, cv=3, scoring='f1', n_jobs=-1)\n",
    "grid_search.fit(X_train_scaled, y_train)\n",
    "\n",
    "best_k = grid_search.best_params_['n_neighbors']\n",
    "print(f\"Best K: {best_k}, CV Score: {grid_search.best_score_:.4f}\")\n",
    "\n",
    "knn_model = KNeighborsClassifier(n_neighbors=best_k, weights='distance', algorithm='auto', n_jobs=-1)\n",
    "results['KNN'] = evaluate_model('KNN', knn_model, X_train_scaled, X_val_scaled, X_test_scaled, y_train, y_val, y_test)"
   ]
  },
  {
   "cell_type": "markdown",
   "id": "70927e54",
   "metadata": {},
   "source": [
    "# Results Summary"
   ]
  },
  {
   "cell_type": "code",
   "execution_count": 9,
   "id": "4ed16740",
   "metadata": {
    "execution": {
     "iopub.execute_input": "2025-06-29T03:20:43.604871Z",
     "iopub.status.busy": "2025-06-29T03:20:43.604743Z",
     "iopub.status.idle": "2025-06-29T03:20:43.608450Z",
     "shell.execute_reply": "2025-06-29T03:20:43.608049Z"
    }
   },
   "outputs": [
    {
     "name": "stdout",
     "output_type": "stream",
     "text": [
      "================================================================================\n",
      "\n",
      "Random Forest:\n",
      "  Performance: Acc=1.0000, F1=1.0000, Precision=0.9999\n",
      "  Reliability: Recall=1.0000, Specificity=0.9999, NPV=1.0000\n",
      "  Speed: Time=0.737s, AUC=1.0000\n",
      "\n",
      "Decision Tree:\n",
      "  Performance: Acc=0.9997, F1=0.9998, Precision=0.9996\n",
      "  Reliability: Recall=1.0000, Specificity=0.9994, NPV=1.0000\n",
      "  Speed: Time=0.238s, AUC=1.0000\n",
      "\n",
      "KNN:\n",
      "  Performance: Acc=0.9986, F1=0.9988, Precision=0.9981\n",
      "  Reliability: Recall=0.9994, Specificity=0.9974, NPV=0.9993\n",
      "  Speed: Time=0.011s, AUC=0.9992\n"
     ]
    }
   ],
   "source": [
    "results_df = pd.DataFrame(results).T.sort_values('val_f1', ascending=False)\n",
    "\n",
    "print(\"=\" * 80)\n",
    "for model, row in results_df.iterrows():\n",
    "    print(f\"\\n{model}:\")\n",
    "    print(f\"  Performance: Acc={row['test_acc']:.4f}, F1={row['test_f1']:.4f}, Precision={row['test_precision']:.4f}\")\n",
    "    print(f\"  Reliability: Recall={row['test_recall']:.4f}, Specificity={row['specificity']:.4f}, NPV={row['npv']:.4f}\")\n",
    "    auc_str = f\", AUC={row['test_auc']:.4f}\" if row['test_auc'] is not None else \"\"\n",
    "    print(f\"  Speed: Time={row['training_time']:.3f}s{auc_str}\")"
   ]
  },
  {
   "cell_type": "code",
   "execution_count": 10,
   "id": "ab24c3c1",
   "metadata": {
    "execution": {
     "iopub.execute_input": "2025-06-29T03:20:43.609896Z",
     "iopub.status.busy": "2025-06-29T03:20:43.609826Z",
     "iopub.status.idle": "2025-06-29T03:20:43.817821Z",
     "shell.execute_reply": "2025-06-29T03:20:43.817556Z"
    }
   },
   "outputs": [
    {
     "data": {
      "image/png": "[encoded data removed]",
      "text/plain": [
       "<Figure size 1400x1000 with 4 Axes>"
      ]
     },
     "metadata": {},
     "output_type": "display_data"
    }
   ],
   "source": [
    "fig, ((ax1, ax2), (ax3, ax4)) = plt.subplots(2, 2, figsize=(14, 10))\n",
    "\n",
    "models = results_df.index\n",
    "x = np.arange(len(models))\n",
    "\n",
    "metrics = ['test_acc', 'test_f1', 'test_precision', 'test_recall']\n",
    "metric_labels = ['Accuracy', 'F1-Score', 'Precision', 'Recall']\n",
    "colors = ['skyblue', 'lightcoral', 'lightgreen', 'gold']\n",
    "\n",
    "for i, (metric, label, color) in enumerate(zip(metrics, metric_labels, colors)):\n",
    "    ax1.bar(x + i*0.2 - 0.3, results_df[metric], width=0.2, label=label, color=color, alpha=0.8)\n",
    "\n",
    "ax1.set_title('Core Performance Metrics')\n",
    "ax1.set_ylabel('Score')\n",
    "ax1.set_xticks(x)\n",
    "ax1.set_xticklabels(models, rotation=45)\n",
    "ax1.legend()\n",
    "ax1.grid(True, alpha=0.3)\n",
    "ax1.set_ylim(0.95, 1.01)\n",
    "\n",
    "ax2.scatter(results_df['test_recall'], results_df['test_precision'], s=150, alpha=0.7, c=['blue', 'green', 'red'])\n",
    "for model in models:\n",
    "    ax2.annotate(model, (results_df.loc[model, 'test_recall'], results_df.loc[model, 'test_precision']), \n",
    "                xytext=(5, 5), textcoords='offset points')\n",
    "ax2.set_title('Precision vs Recall Trade-off')\n",
    "ax2.set_xlabel('Recall (Sensitivity)')\n",
    "ax2.set_ylabel('Precision (PPV)')\n",
    "ax2.grid(True, alpha=0.3)\n",
    "ax2.set_xlim(0.95, 1.01)\n",
    "ax2.set_ylim(0.95, 1.01)\n",
    "\n",
    "x_pos = np.arange(len(models))\n",
    "ax3.bar(x_pos - 0.2, results_df['specificity'], width=0.4, label='Specificity (TNR)', alpha=0.8, color='lightblue')\n",
    "ax3.bar(x_pos + 0.2, results_df['npv'], width=0.4, label='NPV', alpha=0.8, color='lightcoral')\n",
    "ax3.set_title('Specificity & Negative Predictive Value')\n",
    "ax3.set_ylabel('Score')\n",
    "ax3.set_xticks(x_pos)\n",
    "ax3.set_xticklabels(models, rotation=45)\n",
    "ax3.legend()\n",
    "ax3.grid(True, alpha=0.3)\n",
    "\n",
    "ax4.scatter(results_df['training_time'], results_df['test_f1'], s=150, alpha=0.7, c=['blue', 'green', 'red'])\n",
    "for model in models:\n",
    "    ax4.annotate(model, (results_df.loc[model, 'training_time'], results_df.loc[model, 'test_f1']), \n",
    "                xytext=(5, 5), textcoords='offset points')\n",
    "ax4.set_title('Efficiency vs Performance')\n",
    "ax4.set_xlabel('Training Time (seconds)')\n",
    "ax4.set_ylabel('Test F1-Score')\n",
    "ax4.grid(True, alpha=0.3)\n",
    "\n",
    "plt.tight_layout()\n",
    "plt.show()"
   ]
  }
 ],
 "metadata": {
  "kernelspec": {
   "display_name": "phishing-0NKtdish-py3.12",
   "language": "python",
   "name": "python3"
  },
  "language_info": {
   "codemirror_mode": {
    "name": "ipython",
    "version": 3
   },
   "file_extension": ".py",
   "mimetype": "text/x-python",
   "name": "python",
   "nbconvert_exporter": "python",
   "pygments_lexer": "ipython3",
   "version": "3.12.10"
  }
 },
 "nbformat": 4,
 "nbformat_minor": 5
}
