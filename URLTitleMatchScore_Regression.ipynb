{
 "cells": [
  {
   "cell_type": "markdown",
   "id": "d8044bf6",
   "metadata": {
    "id": "d8044bf6"
   },
   "source": [
    "# URLTitleMatchScore Regression Notebook\n",
    "\n",
    "This notebook shows how to predict `URLTitleMatchScore` using other features, with proper training/testing split and leak prevention."
   ]
  },
  {
   "cell_type": "markdown",
   "id": "1eaaa6f7",
   "metadata": {
    "id": "1eaaa6f7"
   },
   "source": [
    "# Imports"
   ]
  },
  {
   "cell_type": "code",
   "execution_count": 1,
   "id": "91ce0313",
   "metadata": {
    "ExecuteTime": {
     "end_time": "2025-06-28T16:44:16.444796Z",
     "start_time": "2025-06-28T16:44:14.358524Z"
    },
    "id": "91ce0313"
   },
   "outputs": [],
   "source": [
    "\n",
    "import pandas as pd\n",
    "import numpy as np\n",
    "from sklearn.model_selection import train_test_split, KFold, cross_validate\n",
    "from sklearn.preprocessing import StandardScaler\n",
    "from sklearn.ensemble import RandomForestRegressor\n",
    "from sklearn.neighbors import KNeighborsRegressor\n",
    "from sklearn.svm import SVR\n",
    "from sklearn.metrics import mean_absolute_error, mean_squared_error, r2_score\n",
    "import matplotlib.pyplot as plt\n"
   ]
  },
  {
   "cell_type": "markdown",
   "id": "b8fdbad8",
   "metadata": {
    "id": "b8fdbad8"
   },
   "source": [
    "## Load and Prepare Data"
   ]
  },
  {
   "cell_type": "code",
   "execution_count": 2,
   "id": "08c93404",
   "metadata": {
    "ExecuteTime": {
     "end_time": "2025-06-28T16:44:17.796001Z",
     "start_time": "2025-06-28T16:44:16.552506Z"
    },
    "colab": {
     "base_uri": "https://localhost:8080/",
     "height": 290
    },
    "id": "08c93404",
    "outputId": "c6223b50-181d-43e2-9e07-8f87b3a502cb"
   },
   "outputs": [
    {
     "name": "stdout",
     "output_type": "stream",
     "text": [
      "\n",
      "Shape of data: (235795, 55)\n"
     ]
    },
    {
     "data": {
      "text/html": [
       "<div>\n",
       "<style scoped>\n",
       "    .dataframe tbody tr th:only-of-type {\n",
       "        vertical-align: middle;\n",
       "    }\n",
       "\n",
       "    .dataframe tbody tr th {\n",
       "        vertical-align: top;\n",
       "    }\n",
       "\n",
       "    .dataframe thead th {\n",
       "        text-align: right;\n",
       "    }\n",
       "</style>\n",
       "<table border=\"1\" class=\"dataframe\">\n",
       "  <thead>\n",
       "    <tr style=\"text-align: right;\">\n",
       "      <th></th>\n",
       "      <th>URL</th>\n",
       "      <th>URLLength</th>\n",
       "      <th>Domain</th>\n",
       "      <th>DomainLength</th>\n",
       "      <th>IsDomainIP</th>\n",
       "      <th>TLD</th>\n",
       "      <th>URLSimilarityIndex</th>\n",
       "      <th>CharContinuationRate</th>\n",
       "      <th>TLDLegitimateProb</th>\n",
       "      <th>URLCharProb</th>\n",
       "      <th>...</th>\n",
       "      <th>Pay</th>\n",
       "      <th>Crypto</th>\n",
       "      <th>HasCopyrightInfo</th>\n",
       "      <th>NoOfImage</th>\n",
       "      <th>NoOfCSS</th>\n",
       "      <th>NoOfJS</th>\n",
       "      <th>NoOfSelfRef</th>\n",
       "      <th>NoOfEmptyRef</th>\n",
       "      <th>NoOfExternalRef</th>\n",
       "      <th>label</th>\n",
       "    </tr>\n",
       "  </thead>\n",
       "  <tbody>\n",
       "    <tr>\n",
       "      <th>0</th>\n",
       "      <td>https://www.southbankmosaics.com</td>\n",
       "      <td>31</td>\n",
       "      <td>www.southbankmosaics.com</td>\n",
       "      <td>24</td>\n",
       "      <td>0</td>\n",
       "      <td>com</td>\n",
       "      <td>100.0</td>\n",
       "      <td>1.000000</td>\n",
       "      <td>0.522907</td>\n",
       "      <td>0.061933</td>\n",
       "      <td>...</td>\n",
       "      <td>0</td>\n",
       "      <td>0</td>\n",
       "      <td>1</td>\n",
       "      <td>34</td>\n",
       "      <td>20</td>\n",
       "      <td>28</td>\n",
       "      <td>119</td>\n",
       "      <td>0</td>\n",
       "      <td>124</td>\n",
       "      <td>1</td>\n",
       "    </tr>\n",
       "    <tr>\n",
       "      <th>1</th>\n",
       "      <td>https://www.uni-mainz.de</td>\n",
       "      <td>23</td>\n",
       "      <td>www.uni-mainz.de</td>\n",
       "      <td>16</td>\n",
       "      <td>0</td>\n",
       "      <td>de</td>\n",
       "      <td>100.0</td>\n",
       "      <td>0.666667</td>\n",
       "      <td>0.032650</td>\n",
       "      <td>0.050207</td>\n",
       "      <td>...</td>\n",
       "      <td>0</td>\n",
       "      <td>0</td>\n",
       "      <td>1</td>\n",
       "      <td>50</td>\n",
       "      <td>9</td>\n",
       "      <td>8</td>\n",
       "      <td>39</td>\n",
       "      <td>0</td>\n",
       "      <td>217</td>\n",
       "      <td>1</td>\n",
       "    </tr>\n",
       "    <tr>\n",
       "      <th>2</th>\n",
       "      <td>https://www.voicefmradio.co.uk</td>\n",
       "      <td>29</td>\n",
       "      <td>www.voicefmradio.co.uk</td>\n",
       "      <td>22</td>\n",
       "      <td>0</td>\n",
       "      <td>uk</td>\n",
       "      <td>100.0</td>\n",
       "      <td>0.866667</td>\n",
       "      <td>0.028555</td>\n",
       "      <td>0.064129</td>\n",
       "      <td>...</td>\n",
       "      <td>0</td>\n",
       "      <td>0</td>\n",
       "      <td>1</td>\n",
       "      <td>10</td>\n",
       "      <td>2</td>\n",
       "      <td>7</td>\n",
       "      <td>42</td>\n",
       "      <td>2</td>\n",
       "      <td>5</td>\n",
       "      <td>1</td>\n",
       "    </tr>\n",
       "    <tr>\n",
       "      <th>3</th>\n",
       "      <td>https://www.sfnmjournal.com</td>\n",
       "      <td>26</td>\n",
       "      <td>www.sfnmjournal.com</td>\n",
       "      <td>19</td>\n",
       "      <td>0</td>\n",
       "      <td>com</td>\n",
       "      <td>100.0</td>\n",
       "      <td>1.000000</td>\n",
       "      <td>0.522907</td>\n",
       "      <td>0.057606</td>\n",
       "      <td>...</td>\n",
       "      <td>1</td>\n",
       "      <td>1</td>\n",
       "      <td>1</td>\n",
       "      <td>3</td>\n",
       "      <td>27</td>\n",
       "      <td>15</td>\n",
       "      <td>22</td>\n",
       "      <td>1</td>\n",
       "      <td>31</td>\n",
       "      <td>1</td>\n",
       "    </tr>\n",
       "    <tr>\n",
       "      <th>4</th>\n",
       "      <td>https://www.rewildingargentina.org</td>\n",
       "      <td>33</td>\n",
       "      <td>www.rewildingargentina.org</td>\n",
       "      <td>26</td>\n",
       "      <td>0</td>\n",
       "      <td>org</td>\n",
       "      <td>100.0</td>\n",
       "      <td>1.000000</td>\n",
       "      <td>0.079963</td>\n",
       "      <td>0.059441</td>\n",
       "      <td>...</td>\n",
       "      <td>1</td>\n",
       "      <td>0</td>\n",
       "      <td>1</td>\n",
       "      <td>244</td>\n",
       "      <td>15</td>\n",
       "      <td>34</td>\n",
       "      <td>72</td>\n",
       "      <td>1</td>\n",
       "      <td>85</td>\n",
       "      <td>1</td>\n",
       "    </tr>\n",
       "  </tbody>\n",
       "</table>\n",
       "<p>5 rows × 55 columns</p>\n",
       "</div>"
      ],
      "text/plain": [
       "                                  URL  URLLength                      Domain  \\\n",
       "0    https://www.southbankmosaics.com         31    www.southbankmosaics.com   \n",
       "1            https://www.uni-mainz.de         23            www.uni-mainz.de   \n",
       "2      https://www.voicefmradio.co.uk         29      www.voicefmradio.co.uk   \n",
       "3         https://www.sfnmjournal.com         26         www.sfnmjournal.com   \n",
       "4  https://www.rewildingargentina.org         33  www.rewildingargentina.org   \n",
       "\n",
       "   DomainLength  IsDomainIP  TLD  URLSimilarityIndex  CharContinuationRate  \\\n",
       "0            24           0  com               100.0              1.000000   \n",
       "1            16           0   de               100.0              0.666667   \n",
       "2            22           0   uk               100.0              0.866667   \n",
       "3            19           0  com               100.0              1.000000   \n",
       "4            26           0  org               100.0              1.000000   \n",
       "\n",
       "   TLDLegitimateProb  URLCharProb  ...  Pay  Crypto  HasCopyrightInfo  \\\n",
       "0           0.522907     0.061933  ...    0       0                 1   \n",
       "1           0.032650     0.050207  ...    0       0                 1   \n",
       "2           0.028555     0.064129  ...    0       0                 1   \n",
       "3           0.522907     0.057606  ...    1       1                 1   \n",
       "4           0.079963     0.059441  ...    1       0                 1   \n",
       "\n",
       "   NoOfImage  NoOfCSS  NoOfJS  NoOfSelfRef  NoOfEmptyRef  NoOfExternalRef  \\\n",
       "0         34       20      28          119             0              124   \n",
       "1         50        9       8           39             0              217   \n",
       "2         10        2       7           42             2                5   \n",
       "3          3       27      15           22             1               31   \n",
       "4        244       15      34           72             1               85   \n",
       "\n",
       "   label  \n",
       "0      1  \n",
       "1      1  \n",
       "2      1  \n",
       "3      1  \n",
       "4      1  \n",
       "\n",
       "[5 rows x 55 columns]"
      ]
     },
     "execution_count": 2,
     "metadata": {},
     "output_type": "execute_result"
    }
   ],
   "source": [
    "\n",
    "# URL to the dataset\n",
    "url = \"https://archive.ics.uci.edu/static/public/967/phiusiil+phishing+url+dataset.zip\"\n",
    "\n",
    "# Read the CSV file from the URL, ignoring the first column (index 0)\n",
    "df = pd.read_csv(url, encoding=\"utf-8\")\n",
    "df = df.drop(\"FILENAME\", axis=1)  # Column \"FILENAME\" can be ignored.\n",
    "print(\"\\nShape of data:\", df.shape)\n",
    "df.head()\n",
    "\n",
    "\n",
    "\n",
    "\n"
   ]
  },
  {
   "cell_type": "markdown",
   "id": "_ICV58b15XSm",
   "metadata": {
    "id": "_ICV58b15XSm"
   },
   "source": [
    "## Show correlation"
   ]
  },
  {
   "cell_type": "code",
   "execution_count": 3,
   "id": "gHTyQChU5NWC",
   "metadata": {
    "ExecuteTime": {
     "end_time": "2025-06-28T16:44:18.306619Z",
     "start_time": "2025-06-28T16:44:17.822352Z"
    },
    "colab": {
     "base_uri": "https://localhost:8080/"
    },
    "id": "gHTyQChU5NWC",
    "outputId": "56eedbb5-3b69-4f14-9d2f-54225ab444be"
   },
   "outputs": [
    {
     "name": "stdout",
     "output_type": "stream",
     "text": [
      "Correlation with URLTitleMatchScore:\n",
      "URLTitleMatchScore            1.000000\n",
      "DomainTitleMatchScore         0.961008\n",
      "CharContinuationRate          0.568560\n",
      "URLSimilarityIndex            0.543969\n",
      "label                         0.539419\n",
      "HasSocialNet                  0.425394\n",
      "HasTitle                      0.417060\n",
      "HasCopyrightInfo              0.413144\n",
      "HasDescription                0.398488\n",
      "URLCharProb                   0.331182\n",
      "HasSubmitButton               0.302893\n",
      "IsResponsive                  0.297164\n",
      "TLDLegitimateProb             0.296253\n",
      "HasHiddenFields               0.265098\n",
      "HasFavicon                    0.245452\n",
      "Robots                        0.222834\n",
      "IsHTTPS                       0.220749\n",
      "Pay                           0.203851\n",
      "NoOfJS                        0.199003\n",
      "TLDLength                     0.169064\n",
      "NoOfSelfRef                   0.161625\n",
      "NoOfImage                     0.150345\n",
      "LineOfCode                    0.146272\n",
      "NoOfiFrame                    0.142916\n",
      "NoOfExternalRef               0.137575\n",
      "Bank                          0.101971\n",
      "HasPasswordField              0.093428\n",
      "HasExternalFormSubmit         0.092289\n",
      "Crypto                        0.073197\n",
      "NoOfEmptyRef                  0.054994\n",
      "NoOfSelfRedirect              0.045006\n",
      "NoOfCSS                       0.036633\n",
      "NoOfPopup                     0.024255\n",
      "NoOfURLRedirect               0.006097\n",
      "NoOfObfuscatedChar           -0.012953\n",
      "NoOfAmpersandInURL           -0.030299\n",
      "ObfuscationRatio             -0.032405\n",
      "LargestLineLength            -0.037369\n",
      "HasObfuscation               -0.041663\n",
      "IsDomainIP                   -0.054458\n",
      "NoOfEqualsInURL              -0.062519\n",
      "NoOfQMarkInURL               -0.132800\n",
      "NoOfDegitsInURL              -0.135085\n",
      "URLLength                    -0.193234\n",
      "NoOfLettersInURL             -0.205711\n",
      "LetterRatioInURL             -0.279396\n",
      "DegitRatioInURL              -0.315039\n",
      "DomainLength                 -0.328603\n",
      "NoOfOtherSpecialCharsInURL   -0.331456\n",
      "NoOfSubDomain                -0.381771\n",
      "SpacialCharRatioInURL        -0.560944\n",
      "Name: URLTitleMatchScore, dtype: float64\n"
     ]
    }
   ],
   "source": [
    "# Keep numeric columns only\n",
    "numeric_df = df.select_dtypes(include=[np.number])\n",
    "\n",
    "\n",
    "print(\"Correlation with URLTitleMatchScore:\")\n",
    "print(numeric_df.corr()['URLTitleMatchScore'].sort_values(ascending=False))\n",
    "\n"
   ]
  },
  {
   "cell_type": "markdown",
   "id": "3G0gxNQC5Us1",
   "metadata": {
    "id": "3G0gxNQC5Us1"
   },
   "source": [
    "## Removing Leakage, High Correleation, and Irrelevant Features\n"
   ]
  },
  {
   "cell_type": "code",
   "execution_count": 4,
   "id": "6Wl7_Xf75S7n",
   "metadata": {
    "ExecuteTime": {
     "end_time": "2025-06-28T16:44:18.339675Z",
     "start_time": "2025-06-28T16:44:18.328718Z"
    },
    "colab": {
     "base_uri": "https://localhost:8080/"
    },
    "id": "6Wl7_Xf75S7n",
    "outputId": "5afc553b-86f0-446f-8f8b-c112c8478116"
   },
   "outputs": [
    {
     "name": "stdout",
     "output_type": "stream",
     "text": [
      "Remaining columns after dropping potential leaks:\n",
      "['URLLength', 'DomainLength', 'IsDomainIP', 'URLSimilarityIndex', 'CharContinuationRate', 'TLDLegitimateProb', 'URLCharProb', 'TLDLength', 'NoOfSubDomain', 'HasObfuscation', 'NoOfObfuscatedChar', 'ObfuscationRatio', 'NoOfLettersInURL', 'LetterRatioInURL', 'NoOfDegitsInURL', 'DegitRatioInURL', 'NoOfEqualsInURL', 'NoOfQMarkInURL', 'NoOfAmpersandInURL', 'NoOfOtherSpecialCharsInURL', 'SpacialCharRatioInURL', 'IsHTTPS', 'LineOfCode', 'LargestLineLength', 'HasTitle', 'URLTitleMatchScore', 'HasFavicon', 'Robots', 'IsResponsive', 'NoOfURLRedirect', 'NoOfSelfRedirect', 'HasDescription', 'NoOfPopup', 'NoOfiFrame', 'HasExternalFormSubmit', 'HasSocialNet', 'HasSubmitButton', 'HasHiddenFields', 'HasPasswordField', 'Bank', 'Pay', 'Crypto', 'HasCopyrightInfo', 'NoOfImage', 'NoOfCSS', 'NoOfJS', 'NoOfSelfRef', 'NoOfEmptyRef', 'NoOfExternalRef']\n"
     ]
    }
   ],
   "source": [
    "leak_columns = [\n",
    "    # 'Title',                  # UrlTitleMatchScore is derived from Title.\n",
    "    'DomainTitleMatchScore',  # Extremely high correlation; direct overlap\n",
    "    'label'                   # Phishing would cause leakage as it was the original target.\n",
    "]\n",
    "\n",
    "# Drop from feature matrix\n",
    "numeric_df = numeric_df.drop(columns=leak_columns)\n",
    "\n",
    "print(\"Remaining columns after dropping potential leaks:\")\n",
    "print(numeric_df.columns.tolist())"
   ]
  },
  {
   "cell_type": "markdown",
   "id": "oP2eOqhi5cHn",
   "metadata": {
    "id": "oP2eOqhi5cHn"
   },
   "source": [
    "## Prepare DF and Split into Test/Train"
   ]
  },
  {
   "cell_type": "code",
   "execution_count": 5,
   "id": "4zqSYnFQ5KOu",
   "metadata": {
    "ExecuteTime": {
     "end_time": "2025-06-28T16:44:18.419471Z",
     "start_time": "2025-06-28T16:44:18.374535Z"
    },
    "colab": {
     "base_uri": "https://localhost:8080/"
    },
    "id": "4zqSYnFQ5KOu",
    "outputId": "e2a1bf83-e485-49c8-b184-1254a9bf2a08"
   },
   "outputs": [
    {
     "name": "stdout",
     "output_type": "stream",
     "text": [
      "Remaining features: ['URLLength', 'DomainLength', 'IsDomainIP', 'URLSimilarityIndex', 'CharContinuationRate', 'TLDLegitimateProb', 'URLCharProb', 'TLDLength', 'NoOfSubDomain', 'HasObfuscation', 'NoOfObfuscatedChar', 'ObfuscationRatio', 'NoOfLettersInURL', 'LetterRatioInURL', 'NoOfDegitsInURL', 'DegitRatioInURL', 'NoOfEqualsInURL', 'NoOfQMarkInURL', 'NoOfAmpersandInURL', 'NoOfOtherSpecialCharsInURL', 'SpacialCharRatioInURL', 'IsHTTPS', 'LineOfCode', 'LargestLineLength', 'HasTitle', 'HasFavicon', 'Robots', 'IsResponsive', 'NoOfURLRedirect', 'NoOfSelfRedirect', 'HasDescription', 'NoOfPopup', 'NoOfiFrame', 'HasExternalFormSubmit', 'HasSocialNet', 'HasSubmitButton', 'HasHiddenFields', 'HasPasswordField', 'Bank', 'Pay', 'Crypto', 'HasCopyrightInfo', 'NoOfImage', 'NoOfCSS', 'NoOfJS', 'NoOfSelfRef', 'NoOfEmptyRef', 'NoOfExternalRef']\n",
      "Training samples: 188636\n",
      "Testing samples: 47159\n"
     ]
    }
   ],
   "source": [
    "# Define X and y\n",
    "X = numeric_df.drop('URLTitleMatchScore', axis=1)\n",
    "y = numeric_df['URLTitleMatchScore']\n",
    "\n",
    "# Drop known leaks\n",
    "leak_columns = ['DomainTitleMatchScore', 'label']\n",
    "X = X.drop(columns=[col for col in leak_columns if col in X.columns])\n",
    "\n",
    "print(\"Remaining features:\", X.columns.tolist())\n",
    "\n",
    "# Split data\n",
    "X_train, X_test, y_train, y_test = train_test_split(X, y, test_size=0.2, random_state=42)\n",
    "\n",
    "print(\"Training samples:\", X_train.shape[0])\n",
    "print(\"Testing samples:\", X_test.shape[0])"
   ]
  },
  {
   "cell_type": "markdown",
   "id": "b3740c53",
   "metadata": {
    "id": "b3740c53"
   },
   "source": [
    "## Scale Features"
   ]
  },
  {
   "cell_type": "code",
   "execution_count": 6,
   "id": "87b4406d",
   "metadata": {
    "ExecuteTime": {
     "end_time": "2025-06-28T16:44:18.497314Z",
     "start_time": "2025-06-28T16:44:18.432861Z"
    },
    "id": "87b4406d"
   },
   "outputs": [],
   "source": [
    "\n",
    "scaler = StandardScaler()\n",
    "X_train_scaled = scaler.fit_transform(X_train)\n",
    "X_test_scaled = scaler.transform(X_test)\n"
   ]
  },
  {
   "cell_type": "markdown",
   "id": "861f91e4",
   "metadata": {
    "id": "861f91e4"
   },
   "source": [
    "# Cross-Validation and Evaluation Metrics\n",
    "\n",
    "We use **10-Fold Cross-Validation** (`KFold`) to get a reliable estimate of generalization performance.\n",
    "Each fold trains on 90% of the training data and tests on 10%.\n",
    "\n",
    "**Why 10 folds?**\n",
    "- Good balance between bias and variance.\n",
    "- Works well for medium-sized datasets.\n",
    "- Uses as much data as possible for training each round.\n",
    "\n",
    "**Evaluation metrics:**\n",
    "- **MAE (Mean Absolute Error):** Average absolute difference between predicted and actual values.\n",
    "- **RMSE (Root Mean Squared Error):** Penalizes larger errors more strongly.\n",
    "- **R² (R-Squared):** Proportion of variance explained by the model.\n",
    "\n",
    "Combining these metrics gives a better sense of how well the model performs.\n"
   ]
  },
  {
   "cell_type": "code",
   "execution_count": 7,
   "id": "c62141ee",
   "metadata": {
    "ExecuteTime": {
     "end_time": "2025-06-28T16:44:18.514267Z",
     "start_time": "2025-06-28T16:44:18.512423Z"
    },
    "id": "c62141ee"
   },
   "outputs": [],
   "source": [
    "# Define K-Fold CV\n",
    "kf = KFold(n_splits=10, shuffle=True, random_state=42)\n",
    "\n",
    "# Define scoring\n",
    "scoring = {\n",
    "    'MAE': 'neg_mean_absolute_error',\n",
    "    'RMSE': 'neg_root_mean_squared_error',\n",
    "    'R2': 'r2'\n",
    "}"
   ]
  },
  {
   "cell_type": "markdown",
   "id": "8ca6cac9",
   "metadata": {
    "id": "8ca6cac9"
   },
   "source": [
    "# Random Forest Regression"
   ]
  },
  {
   "cell_type": "code",
   "execution_count": null,
   "id": "e45adf39",
   "metadata": {
    "ExecuteTime": {
     "start_time": "2025-06-28T16:44:18.526805Z"
    },
    "id": "e45adf39",
    "jupyter": {
     "is_executing": true
    }
   },
   "outputs": [],
   "source": [
    "\n",
    "rf = RandomForestRegressor(n_estimators=100, max_depth=10, random_state=42, n_jobs=-1)\n",
    "\n",
    "rf_scores = cross_validate(rf, X_train_scaled, y_train, cv=kf, scoring=scoring)\n",
    "\n",
    "rf_results = {\n",
    "    'MAE': -rf_scores['test_MAE'].mean(),\n",
    "    'RMSE': -rf_scores['test_RMSE'].mean(),\n",
    "    'R2': rf_scores['test_R2'].mean()\n",
    "}\n",
    "\n",
    "print(rf_results)\n"
   ]
  },
  {
   "cell_type": "markdown",
   "id": "845a621f",
   "metadata": {
    "id": "845a621f"
   },
   "source": [
    "# Random Forest: Actual vs Predicted"
   ]
  },
  {
   "cell_type": "code",
   "execution_count": null,
   "id": "67217485",
   "metadata": {
    "id": "67217485"
   },
   "outputs": [],
   "source": [
    "\n",
    "rf.fit(X_train_scaled, y_train)\n",
    "y_pred = rf.predict(X_test_scaled)\n",
    "\n",
    "plt.figure(figsize=(8, 6))\n",
    "plt.scatter(y_test, y_pred, alpha=0.6)\n",
    "plt.plot([y_test.min(), y_test.max()], [y_test.min(), y_test.max()], 'r--')\n",
    "plt.xlabel('Actual URLTitleMatchScore')\n",
    "plt.ylabel('Predicted URLTitleMatchScore')\n",
    "plt.title('Random Forest: Actual vs Predicted')\n",
    "plt.show()\n",
    "\n",
    "feature_names = X_train.columns\n",
    "\n",
    "# Get importances\n",
    "importances = rf.feature_importances_\n",
    "\n",
    "# Make a DataFrame for easy sorting\n",
    "feat_imp = pd.DataFrame({\n",
    "    'Feature': feature_names,\n",
    "    'Importance': importances\n",
    "}).sort_values(by='Importance', ascending=False)\n",
    "\n",
    "print(feat_imp)"
   ]
  },
  {
   "cell_type": "markdown",
   "id": "775d2f52",
   "metadata": {
    "id": "775d2f52"
   },
   "source": [
    "# K-Nearest Neighbors Regression"
   ]
  },
  {
   "cell_type": "code",
   "execution_count": null,
   "id": "8afbbbfe",
   "metadata": {
    "colab": {
     "base_uri": "https://localhost:8080/"
    },
    "id": "8afbbbfe",
    "outputId": "4a7f457d-eb0c-4fe3-fb9c-448b78b02790"
   },
   "outputs": [],
   "source": [
    "\n",
    "knn = KNeighborsRegressor(n_neighbors=5)\n",
    "\n",
    "knn_scores = cross_validate(knn, X_train_scaled, y_train, cv=kf, scoring=scoring)\n",
    "\n",
    "knn_results = {\n",
    "    'MAE': -knn_scores['test_MAE'].mean(),\n",
    "    'RMSE': -knn_scores['test_RMSE'].mean(),\n",
    "    'R2': knn_scores['test_R2'].mean()\n",
    "}\n",
    "\n",
    "print(knn_results)\n"
   ]
  },
  {
   "cell_type": "markdown",
   "id": "adb43d03",
   "metadata": {
    "id": "adb43d03"
   },
   "source": [
    "# Support Vector Regression"
   ]
  },
  {
   "cell_type": "code",
   "execution_count": null,
   "id": "2ff43197",
   "metadata": {
    "id": "2ff43197"
   },
   "outputs": [],
   "source": [
    "\n",
    "svr = SVR(kernel='rbf', C=1.0, epsilon=0.1)\n",
    "\n",
    "svr_scores = cross_validate(svr, X_train_scaled, y_train, cv=kf, scoring=scoring)\n",
    "\n",
    "svr_results = {\n",
    "    'MAE': -svr_scores['test_MAE'].mean(),\n",
    "    'RMSE': -svr_scores['test_RMSE'].mean(),\n",
    "    'R2': svr_scores['test_R2'].mean()\n",
    "}\n",
    "\n",
    "print(svr_results)\n"
   ]
  },
  {
   "cell_type": "markdown",
   "id": "2a18459e",
   "metadata": {
    "id": "2a18459e"
   },
   "source": [
    "# Model Comparison"
   ]
  },
  {
   "cell_type": "code",
   "execution_count": null,
   "id": "e9e9735e",
   "metadata": {
    "id": "e9e9735e"
   },
   "outputs": [],
   "source": [
    "\n",
    "comparison = pd.DataFrame({\n",
    "    'Random Forest': rf_results,\n",
    "    'KNN': knn_results,\n",
    "    'SVR': svr_results\n",
    "})\n",
    "\n",
    "print(comparison)\n",
    "\n",
    "comparison.T.plot(kind='bar', figsize=(10,6), title='Regression Model Comparison')\n"
   ]
  },
  {
   "cell_type": "markdown",
   "id": "999b4596",
   "metadata": {
    "id": "999b4596"
   },
   "source": [
    "# Model Analysis and Real-World Use\n",
    "\n",
    "## Which Features Matter Most?\n",
    "Random Forest can show which features are most useful for predicting the score. We drop `DomainTitleMatchScore`, `Title`, `Phishing(lable)` to prevent injecting false results.\n",
    "\n",
    "## Why Do These Features Matter?\n",
    "Features that measure similarity are helpful because phishing URLs often try to look like real ones.\n",
    "\n",
    "## Usefulness for Interested Parties\n",
    "This kind of model could help email security providers, browsers, or companies detect phishing attempts early and block suspicious links.\n",
    "\n",
    "## Measuring and Improving the Model\n",
    "- Test how many phishing URLs are blocked vs missed.\n",
    "- Retrain with updated data regularly as attackers change strategies.\n",
    "- Add more data like page content or SSL info for better predictions.\n",
    "\n",
    "## Deployment\n",
    "Run the model as an API or integrate it into a security pipeline. Monitor its performance and update as needed.\n"
   ]
  }
 ],
 "metadata": {
  "colab": {
   "provenance": []
  },
  "kernelspec": {
   "display_name": "Python [conda env:base] *",
   "language": "python",
   "name": "conda-base-py"
  },
  "language_info": {
   "codemirror_mode": {
    "name": "ipython",
    "version": 3
   },
   "file_extension": ".py",
   "mimetype": "text/x-python",
   "name": "python",
   "nbconvert_exporter": "python",
   "pygments_lexer": "ipython3",
   "version": "3.13.5"
  }
 },
 "nbformat": 4,
 "nbformat_minor": 5
}
