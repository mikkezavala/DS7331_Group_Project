{
 "cells": [
  {
   "cell_type": "code",
   "execution_count": 53,
   "id": "762a443cb7aba29f",
   "metadata": {
    "ExecuteTime": {
     "end_time": "2025-06-28T04:07:52.714367Z",
     "start_time": "2025-06-28T04:07:48.943839Z"
    },
    "execution": {
     "iopub.execute_input": "2025-06-29T00:53:20.772829Z",
     "iopub.status.busy": "2025-06-29T00:53:20.772671Z",
     "iopub.status.idle": "2025-06-29T00:53:21.834584Z",
     "shell.execute_reply": "2025-06-29T00:53:21.834158Z"
    }
   },
   "outputs": [],
   "source": [
    "# Phishing URL Classification Analysis\n",
    "# Focus: Supervised Learning with Proper Overfitting Prevention\n",
    "# Algorithms: Decision Tree, Random Forest, K-Nearest Neighbors\n",
    "\n",
    "import numpy as np\n",
    "import pandas as pd\n",
    "import matplotlib.pyplot as plt\n",
    "import seaborn as sns\n",
    "import warnings\n",
    "warnings.filterwarnings(\"ignore\")\n",
    "\n",
    "# Machine Learning imports\n",
    "from sklearn.model_selection import train_test_split, cross_val_score, StratifiedKFold\n",
    "from sklearn.preprocessing import StandardScaler, LabelEncoder\n",
    "from sklearn.tree import DecisionTreeClassifier\n",
    "from sklearn.ensemble import RandomForestClassifier\n",
    "from sklearn.neighbors import KNeighborsClassifier\n",
    "from sklearn.metrics import classification_report, accuracy_score, precision_score, recall_score, f1_score\n",
    "from sklearn.metrics import confusion_matrix, roc_auc_score, roc_curve\n",
    "import time\n",
    "\n",
    "%matplotlib inline"
   ]
  },
  {
   "cell_type": "code",
   "execution_count": 54,
   "id": "456039e1c253cee3",
   "metadata": {
    "ExecuteTime": {
     "end_time": "2025-06-28T04:09:39.367134Z",
     "start_time": "2025-06-28T04:09:38.294861Z"
    },
    "execution": {
     "iopub.execute_input": "2025-06-29T00:53:21.835998Z",
     "iopub.status.busy": "2025-06-29T00:53:21.835848Z",
     "iopub.status.idle": "2025-06-29T00:53:25.036483Z",
     "shell.execute_reply": "2025-06-29T00:53:25.036206Z"
    }
   },
   "outputs": [
    {
     "name": "stdout",
     "output_type": "stream",
     "text": [
      "\n",
      "Shape of data: (235795, 55)\n"
     ]
    },
    {
     "data": {
      "text/html": [
       "<div>\n",
       "<style scoped>\n",
       "    .dataframe tbody tr th:only-of-type {\n",
       "        vertical-align: middle;\n",
       "    }\n",
       "\n",
       "    .dataframe tbody tr th {\n",
       "        vertical-align: top;\n",
       "    }\n",
       "\n",
       "    .dataframe thead th {\n",
       "        text-align: right;\n",
       "    }\n",
       "</style>\n",
       "<table border=\"1\" class=\"dataframe\">\n",
       "  <thead>\n",
       "    <tr style=\"text-align: right;\">\n",
       "      <th></th>\n",
       "      <th>URL</th>\n",
       "      <th>URLLength</th>\n",
       "      <th>Domain</th>\n",
       "      <th>DomainLength</th>\n",
       "      <th>IsDomainIP</th>\n",
       "      <th>TLD</th>\n",
       "      <th>URLSimilarityIndex</th>\n",
       "      <th>CharContinuationRate</th>\n",
       "      <th>TLDLegitimateProb</th>\n",
       "      <th>URLCharProb</th>\n",
       "      <th>...</th>\n",
       "      <th>Pay</th>\n",
       "      <th>Crypto</th>\n",
       "      <th>HasCopyrightInfo</th>\n",
       "      <th>NoOfImage</th>\n",
       "      <th>NoOfCSS</th>\n",
       "      <th>NoOfJS</th>\n",
       "      <th>NoOfSelfRef</th>\n",
       "      <th>NoOfEmptyRef</th>\n",
       "      <th>NoOfExternalRef</th>\n",
       "      <th>label</th>\n",
       "    </tr>\n",
       "  </thead>\n",
       "  <tbody>\n",
       "    <tr>\n",
       "      <th>0</th>\n",
       "      <td>https://www.southbankmosaics.com</td>\n",
       "      <td>31</td>\n",
       "      <td>www.southbankmosaics.com</td>\n",
       "      <td>24</td>\n",
       "      <td>0</td>\n",
       "      <td>com</td>\n",
       "      <td>100.0</td>\n",
       "      <td>1.000000</td>\n",
       "      <td>0.522907</td>\n",
       "      <td>0.061933</td>\n",
       "      <td>...</td>\n",
       "      <td>0</td>\n",
       "      <td>0</td>\n",
       "      <td>1</td>\n",
       "      <td>34</td>\n",
       "      <td>20</td>\n",
       "      <td>28</td>\n",
       "      <td>119</td>\n",
       "      <td>0</td>\n",
       "      <td>124</td>\n",
       "      <td>1</td>\n",
       "    </tr>\n",
       "    <tr>\n",
       "      <th>1</th>\n",
       "      <td>https://www.uni-mainz.de</td>\n",
       "      <td>23</td>\n",
       "      <td>www.uni-mainz.de</td>\n",
       "      <td>16</td>\n",
       "      <td>0</td>\n",
       "      <td>de</td>\n",
       "      <td>100.0</td>\n",
       "      <td>0.666667</td>\n",
       "      <td>0.032650</td>\n",
       "      <td>0.050207</td>\n",
       "      <td>...</td>\n",
       "      <td>0</td>\n",
       "      <td>0</td>\n",
       "      <td>1</td>\n",
       "      <td>50</td>\n",
       "      <td>9</td>\n",
       "      <td>8</td>\n",
       "      <td>39</td>\n",
       "      <td>0</td>\n",
       "      <td>217</td>\n",
       "      <td>1</td>\n",
       "    </tr>\n",
       "    <tr>\n",
       "      <th>2</th>\n",
       "      <td>https://www.voicefmradio.co.uk</td>\n",
       "      <td>29</td>\n",
       "      <td>www.voicefmradio.co.uk</td>\n",
       "      <td>22</td>\n",
       "      <td>0</td>\n",
       "      <td>uk</td>\n",
       "      <td>100.0</td>\n",
       "      <td>0.866667</td>\n",
       "      <td>0.028555</td>\n",
       "      <td>0.064129</td>\n",
       "      <td>...</td>\n",
       "      <td>0</td>\n",
       "      <td>0</td>\n",
       "      <td>1</td>\n",
       "      <td>10</td>\n",
       "      <td>2</td>\n",
       "      <td>7</td>\n",
       "      <td>42</td>\n",
       "      <td>2</td>\n",
       "      <td>5</td>\n",
       "      <td>1</td>\n",
       "    </tr>\n",
       "    <tr>\n",
       "      <th>3</th>\n",
       "      <td>https://www.sfnmjournal.com</td>\n",
       "      <td>26</td>\n",
       "      <td>www.sfnmjournal.com</td>\n",
       "      <td>19</td>\n",
       "      <td>0</td>\n",
       "      <td>com</td>\n",
       "      <td>100.0</td>\n",
       "      <td>1.000000</td>\n",
       "      <td>0.522907</td>\n",
       "      <td>0.057606</td>\n",
       "      <td>...</td>\n",
       "      <td>1</td>\n",
       "      <td>1</td>\n",
       "      <td>1</td>\n",
       "      <td>3</td>\n",
       "      <td>27</td>\n",
       "      <td>15</td>\n",
       "      <td>22</td>\n",
       "      <td>1</td>\n",
       "      <td>31</td>\n",
       "      <td>1</td>\n",
       "    </tr>\n",
       "    <tr>\n",
       "      <th>4</th>\n",
       "      <td>https://www.rewildingargentina.org</td>\n",
       "      <td>33</td>\n",
       "      <td>www.rewildingargentina.org</td>\n",
       "      <td>26</td>\n",
       "      <td>0</td>\n",
       "      <td>org</td>\n",
       "      <td>100.0</td>\n",
       "      <td>1.000000</td>\n",
       "      <td>0.079963</td>\n",
       "      <td>0.059441</td>\n",
       "      <td>...</td>\n",
       "      <td>1</td>\n",
       "      <td>0</td>\n",
       "      <td>1</td>\n",
       "      <td>244</td>\n",
       "      <td>15</td>\n",
       "      <td>34</td>\n",
       "      <td>72</td>\n",
       "      <td>1</td>\n",
       "      <td>85</td>\n",
       "      <td>1</td>\n",
       "    </tr>\n",
       "  </tbody>\n",
       "</table>\n",
       "<p>5 rows × 55 columns</p>\n",
       "</div>"
      ],
      "text/plain": [
       "                                  URL  URLLength                      Domain  \\\n",
       "0    https://www.southbankmosaics.com         31    www.southbankmosaics.com   \n",
       "1            https://www.uni-mainz.de         23            www.uni-mainz.de   \n",
       "2      https://www.voicefmradio.co.uk         29      www.voicefmradio.co.uk   \n",
       "3         https://www.sfnmjournal.com         26         www.sfnmjournal.com   \n",
       "4  https://www.rewildingargentina.org         33  www.rewildingargentina.org   \n",
       "\n",
       "   DomainLength  IsDomainIP  TLD  URLSimilarityIndex  CharContinuationRate  \\\n",
       "0            24           0  com               100.0              1.000000   \n",
       "1            16           0   de               100.0              0.666667   \n",
       "2            22           0   uk               100.0              0.866667   \n",
       "3            19           0  com               100.0              1.000000   \n",
       "4            26           0  org               100.0              1.000000   \n",
       "\n",
       "   TLDLegitimateProb  URLCharProb  ...  Pay  Crypto  HasCopyrightInfo  \\\n",
       "0           0.522907     0.061933  ...    0       0                 1   \n",
       "1           0.032650     0.050207  ...    0       0                 1   \n",
       "2           0.028555     0.064129  ...    0       0                 1   \n",
       "3           0.522907     0.057606  ...    1       1                 1   \n",
       "4           0.079963     0.059441  ...    1       0                 1   \n",
       "\n",
       "   NoOfImage  NoOfCSS  NoOfJS  NoOfSelfRef  NoOfEmptyRef  NoOfExternalRef  \\\n",
       "0         34       20      28          119             0              124   \n",
       "1         50        9       8           39             0              217   \n",
       "2         10        2       7           42             2                5   \n",
       "3          3       27      15           22             1               31   \n",
       "4        244       15      34           72             1               85   \n",
       "\n",
       "   label  \n",
       "0      1  \n",
       "1      1  \n",
       "2      1  \n",
       "3      1  \n",
       "4      1  \n",
       "\n",
       "[5 rows x 55 columns]"
      ]
     },
     "execution_count": 54,
     "metadata": {},
     "output_type": "execute_result"
    }
   ],
   "source": [
    "# URL to the dataset\n",
    "url = \"https://archive.ics.uci.edu/static/public/967/phiusiil+phishing+url+dataset.zip\"\n",
    "\n",
    "# Read the CSV file from the URL, ignoring the first column (index 0)\n",
    "df = pd.read_csv(url, encoding=\"utf-8\")\n",
    "df = df.drop(\"FILENAME\", axis=1)  # Column \"FILENAME\" can be ignored.\n",
    "print(\"\\nShape of data:\", df.shape)\n",
    "df.head()\n"
   ]
  },
  {
   "cell_type": "markdown",
   "id": "0d7c1634",
   "metadata": {},
   "source": [
    "### Feature Preparation and Encoding"
   ]
  },
  {
   "cell_type": "code",
   "execution_count": 55,
   "id": "1dedeb03",
   "metadata": {
    "execution": {
     "iopub.execute_input": "2025-06-29T00:53:25.081793Z",
     "iopub.status.busy": "2025-06-29T00:53:25.081715Z",
     "iopub.status.idle": "2025-06-29T00:53:25.508432Z",
     "shell.execute_reply": "2025-06-29T00:53:25.508136Z"
    }
   },
   "outputs": [
    {
     "name": "stdout",
     "output_type": "stream",
     "text": [
      "Unique URLs: 235,370 (99.8% unique - too high cardinality)\n",
      "Unique Domains: 220,086 (93.3% unique - very high cardinality)\n",
      "Unique TLDs: 695 (manageable for encoding)\n",
      "\n",
      "TLD Phishing Rate Analysis:\n",
      "Top phishing TLDs:\n",
      "  .film: 1.000 phishing rate (1.0 samples)\n",
      "  .mc: 1.000 phishing rate (5.0 samples)\n",
      "  .aero: 1.000 phishing rate (28.0 samples)\n",
      "  .mil: 1.000 phishing rate (301.0 samples)\n",
      "  .google: 1.000 phishing rate (7.0 samples)\n",
      "Lowest phishing TLDs:\n",
      "  .250: 0.000 phishing rate (1.0 samples)\n",
      "  .249:8080: 0.000 phishing rate (1.0 samples)\n",
      "  .243: 0.000 phishing rate (1.0 samples)\n",
      "  .242: 0.000 phishing rate (1.0 samples)\n",
      "  .100: 0.000 phishing rate (1.0 samples)\n",
      "\n",
      "Numeric features: 50\n",
      "Total features: 55 (was 50 numeric + categorical engineered)\n",
      "Samples: 235,795\n",
      "\n",
      "Feature Summary:\n",
      "New categorical features: 3\n",
      "Sample new features: ['tld_frequency', 'is_high_phish_tld', 'domain_frequency']\n"
     ]
    }
   ],
   "source": [
    "print(f\"Unique URLs: {df['URL'].nunique():,} (99.8% unique - too high cardinality)\")\n",
    "print(f\"Unique Domains: {df['Domain'].nunique():,} (93.3% unique - very high cardinality)\")  \n",
    "print(f\"Unique TLDs: {df['TLD'].nunique():,} (manageable for encoding)\")\n",
    "\n",
    "# TLD\n",
    "print(f\"\\nTLD Phishing Rate Analysis:\")\n",
    "tld_phishing = df.groupby('TLD')['label'].agg(['count', 'mean'])\n",
    "tld_phishing = tld_phishing.sort_values(by=['mean'], ascending=False)\n",
    "\n",
    "print(\"Top phishing TLDs:\")\n",
    "for tld, row in tld_phishing.head(5).iterrows():\n",
    "    print(f\"  .{tld}: {row['mean']:.3f} phishing rate ({row['count']} samples)\")\n",
    "\n",
    "print(\"Lowest phishing TLDs:\")\n",
    "for tld, row in tld_phishing.tail(5).iterrows():\n",
    "    print(f\"  .{tld}: {row['mean']:.3f} phishing rate ({row['count']} samples)\")\n",
    "\n",
    "# Numeric features\n",
    "numeric_cols = df.select_dtypes(include=[np.number]).columns.tolist()\n",
    "numeric_cols.remove('label')\n",
    "X_numeric = df[numeric_cols].copy()\n",
    "print(f\"\\nNumeric features: {len(numeric_cols)}\")\n",
    "\n",
    "# 1. TLD Feature Engineering \n",
    "tld_counts = df['TLD'].value_counts()\n",
    "X_numeric['tld_frequency'] = df['TLD'].map(tld_counts.to_dict())\n",
    "X_numeric['tld_frequency'] = pd.cut(X_numeric['tld_frequency'], \n",
    "                                       bins=[0, 10, 100, 1000, np.inf], \n",
    "                                       labels=[0, 1, 2, 3]).astype(int)\n",
    "\n",
    "# Mark if TLD is suspicious (very high phishing rate) - this might be leakage - but it's a good feature to have\n",
    "high_phish_tlds = tld_phishing[tld_phishing['mean'] > 0.9].index.tolist()\n",
    "X_numeric['is_high_phish_tld'] = df['TLD'].isin(high_phish_tlds).astype(int)\n",
    "\n",
    "# 2. Domain Feature Engineering \n",
    "domain_counts = df['Domain'].value_counts()\n",
    "# Group domains by frequency tiers\n",
    "X_numeric['domain_frequency'] = df['Domain'].map(domain_counts.to_dict())\n",
    "X_numeric['domain_frequency'] = pd.cut(X_numeric['domain_frequency'], \n",
    "                                          bins=[0, 1, 5, 50, np.inf], \n",
    "                                          labels=[0, 1, 2, 3])\n",
    "X_numeric['domain_frequency'] = X_numeric['domain_frequency'].astype(int)\n",
    "\n",
    "# 3. Handle Title (High Cardinality)\n",
    "title_counts = df['Title'].value_counts()\n",
    "X_numeric['title_frequency'] = df['Title'].map(title_counts.to_dict())\n",
    "\n",
    "# Bin title frequency into tiers\n",
    "X_numeric['title_frequency'] = pd.cut(X_numeric['title_frequency'], \n",
    "                                         bins=[0, 1, 5, np.inf], \n",
    "                                         labels=[0, 1, 2]).astype(int)\n",
    "\n",
    "# Title length as numeric feature\n",
    "X_numeric['title_length'] = df['Title'].str.len()\n",
    "\n",
    "# Handle any other categorical columns\n",
    "remaining_categorical = df.select_dtypes(include=['object']).columns.tolist()\n",
    "remaining_categorical = [col for col in remaining_categorical if col not in ['URL', 'Domain', 'TLD', 'Title', 'label']]\n",
    "\n",
    "if len(remaining_categorical) > 0:\n",
    "    le = LabelEncoder()\n",
    "    for col in remaining_categorical:\n",
    "        X_numeric[col] = le.fit_transform(df[col].astype(str))\n",
    "\n",
    "# Final feature set\n",
    "X = X_numeric\n",
    "y = df['label']\n",
    "\n",
    "print(f\"Total features: {X.shape[1]} (was {len(numeric_cols)} numeric + categorical engineered)\")\n",
    "print(f\"Samples: {X.shape[0]:,}\")\n",
    "\n",
    "print(f\"\\nFeature Summary:\")\n",
    "new_features = [col for col in X.columns if col.startswith(('tld_', 'domain_', 'is_'))]\n",
    "\n",
    "print(f\"New categorical features: {len(new_features)}\")\n",
    "print(\"Sample new features:\", new_features[:10])"
   ]
  },
  {
   "cell_type": "markdown",
   "id": "28447d2e",
   "metadata": {},
   "source": [
    "### Data Split"
   ]
  },
  {
   "cell_type": "code",
   "execution_count": 56,
   "id": "13e9d60d",
   "metadata": {
    "execution": {
     "iopub.execute_input": "2025-06-29T00:53:25.510116Z",
     "iopub.status.busy": "2025-06-29T00:53:25.509824Z",
     "iopub.status.idle": "2025-06-29T00:53:25.694598Z",
     "shell.execute_reply": "2025-06-29T00:53:25.694313Z"
    }
   },
   "outputs": [
    {
     "name": "stdout",
     "output_type": "stream",
     "text": [
      "Training set: 141,477 samples (60.0%)\n",
      "Validation set: 47,159 samples (20.0%)\n",
      "Test set: 47,159 samples (20.0%)\n",
      "\n",
      "Label Distribution:\n",
      "Training: 57.2% phishing\n",
      "Validation: 57.2% phishing\n",
      "Test: 57.2% phishing\n",
      "Training set range: [-5.937, 373.029]\n"
     ]
    }
   ],
   "source": [
    "# First split: separate test set (20%) - Hold out to test generalization\n",
    "X_temp, X_test, y_temp, y_test = train_test_split(\n",
    "    X, y, test_size=0.2, random_state=42, stratify=y\n",
    ")\n",
    "\n",
    "# Second split: separate train and validation from remaining data (80% -> 60% train, 20% validation)\n",
    "X_train, X_val, y_train, y_val = train_test_split(\n",
    "    X_temp, y_temp, test_size=0.25, random_state=42, stratify=y_temp  # 0.25 * 0.8 = 0.2 of original\n",
    ")\n",
    "\n",
    "print(f\"Training set: {len(X_train):,} samples ({len(X_train)/len(X)*100:.1f}%)\")\n",
    "print(f\"Validation set: {len(X_val):,} samples ({len(X_val)/len(X)*100:.1f}%)\")\n",
    "print(f\"Test set: {len(X_test):,} samples ({len(X_test)/len(X)*100:.1f}%)\")\n",
    "\n",
    "# Check label distribution in each set\n",
    "print(f\"\\nLabel Distribution:\")\n",
    "print(f\"Training: {np.bincount(y_train)[1]/len(y_train)*100:.1f}% phishing\")\n",
    "print(f\"Validation: {np.bincount(y_val)[1]/len(y_val)*100:.1f}% phishing\")\n",
    "print(f\"Test: {np.bincount(y_test)[1]/len(y_test)*100:.1f}% phishing\")\n",
    "\n",
    "# Standardize features (fit on training, transform all)\n",
    "scaler = StandardScaler()\n",
    "X_train_scaled = scaler.fit_transform(X_train)\n",
    "X_val_scaled = scaler.transform(X_val)\n",
    "X_test_scaled = scaler.transform(X_test)\n",
    "\n",
    "print(f\"Training set range: [{X_train_scaled.min():.3f}, {X_train_scaled.max():.3f}]\")"
   ]
  },
  {
   "cell_type": "code",
   "execution_count": 57,
   "id": "047c45f8",
   "metadata": {
    "execution": {
     "iopub.execute_input": "2025-06-29T00:53:25.695919Z",
     "iopub.status.busy": "2025-06-29T00:53:25.695841Z",
     "iopub.status.idle": "2025-06-29T00:53:25.699421Z",
     "shell.execute_reply": "2025-06-29T00:53:25.699180Z"
    }
   },
   "outputs": [
    {
     "name": "stdout",
     "output_type": "stream",
     "text": [
      "\n",
      "🤖 CLASSIFICATION MODEL EVALUATION\n",
      "---------------------------------------------\n"
     ]
    }
   ],
   "source": [
    "def model_evaluation(name, model, X_train, X_val, X_test, y_train, y_val, y_test):\n",
    "    \"\"\"\n",
    "    Evaluate model with proper train/validation/test methodology to detect overfitting, and try to find how to best generalize.\n",
    "    \"\"\"\n",
    "    print(f\"\\nEvaluating: {name}\")\n",
    "    print(\"*\" * (20 + len(name)))\n",
    "    \n",
    "    start_time = time.time()\n",
    "    \n",
    "    model.fit(X_train, y_train)\n",
    "    training_time = time.time() - start_time\n",
    "    \n",
    "    # Predictions on all sets\n",
    "    train_pred = model.predict(X_train)\n",
    "    val_pred = model.predict(X_val)\n",
    "    test_pred = model.predict(X_test)\n",
    "    \n",
    "    # Calculate metrics for all sets\n",
    "    train_acc = accuracy_score(y_train, train_pred)\n",
    "    val_acc = accuracy_score(y_val, val_pred)\n",
    "    test_acc = accuracy_score(y_test, test_pred)\n",
    "    \n",
    "    train_f1 = f1_score(y_train, train_pred)\n",
    "    val_f1 = f1_score(y_val, val_pred)\n",
    "    test_f1 = f1_score(y_test, test_pred)\n",
    "    \n",
    "    # Cross-validation for more robust evaluation\n",
    "    cv_scores = cross_val_score(model, X_train, y_train, cv=5, scoring='f1')\n",
    "    \n",
    "    # Check for overfitting\n",
    "    overfitting_gap = train_acc - val_acc\n",
    "    \n",
    "    print(f\"Training Accuracy:   {train_acc:.4f}\")\n",
    "    print(f\"Validation Accuracy: {val_acc:.4f}\")\n",
    "    print(f\"Test Accuracy:       {test_acc:.4f}\")\n",
    "    print(f\"Training F1:         {train_f1:.4f}\")\n",
    "    print(f\"Validation F1:       {val_f1:.4f}\")\n",
    "    print(f\"Test F1:             {test_f1:.4f}\")\n",
    "    print(f\"CV F1 Score:         {cv_scores.mean():.4f} (±{cv_scores.std()*2:.4f})\")\n",
    "    print(f\"Training Time:       {training_time:.3f}s\")\n",
    "    \n",
    "    # Overfitting check\n",
    "    if overfitting_gap > 0.05:\n",
    "        print(f\"!!! OVERFITTING DETECTED: {overfitting_gap:.4f} gap between train/val\")\n",
    "    elif overfitting_gap > 0.02:\n",
    "        print(f\"~~~ Slight overfitting: {overfitting_gap:.4f} gap between train/val\")\n",
    "    else:\n",
    "        print(f\"*** Good generalization: {overfitting_gap:.4f} gap between train/val\")\n",
    "    \n",
    "    return {\n",
    "        'train_acc': train_acc, 'val_acc': val_acc, 'test_acc': test_acc,\n",
    "        'train_f1': train_f1, 'val_f1': val_f1, 'test_f1': test_f1,\n",
    "        'cv_f1_mean': cv_scores.mean(), 'cv_f1_std': cv_scores.std(),\n",
    "        'training_time': training_time, 'overfitting_gap': overfitting_gap\n",
    "    }\n",
    "\n",
    "# Store results\n",
    "results = {}"
   ]
  },
  {
   "cell_type": "markdown",
   "id": "a10a24c5",
   "metadata": {},
   "source": [
    "## Decision Tree Classifier with Regularization"
   ]
  },
  {
   "cell_type": "code",
   "execution_count": 58,
   "id": "e5e5879a",
   "metadata": {
    "execution": {
     "iopub.execute_input": "2025-06-29T00:53:25.700598Z",
     "iopub.status.busy": "2025-06-29T00:53:25.700513Z",
     "iopub.status.idle": "2025-06-29T00:53:27.339733Z",
     "shell.execute_reply": "2025-06-29T00:53:27.339439Z"
    }
   },
   "outputs": [
    {
     "name": "stdout",
     "output_type": "stream",
     "text": [
      "\n",
      "Evaluating: Decision Tree\n",
      "****************************\n",
      "Training Accuracy:   0.9999\n",
      "Validation Accuracy: 0.9998\n",
      "Test Accuracy:       0.9997\n",
      "Training F1:         0.9999\n",
      "Validation F1:       0.9998\n",
      "Test F1:             0.9998\n",
      "CV F1 Score:         0.9999 (±0.0001)\n",
      "Training Time:       0.225s\n",
      "*** Good generalization: 0.0001 gap between train/val\n"
     ]
    }
   ],
   "source": [
    "# Decision Tree with max_depth to prevent overfitting\n",
    "dt_model = DecisionTreeClassifier(\n",
    "    max_depth=15,\n",
    "    min_samples_split=50,\n",
    "    min_samples_leaf=20,\n",
    "    random_state=42\n",
    ")\n",
    "results['Decision Tree'] = model_evaluation(\n",
    "    'Decision Tree', dt_model, \n",
    "    X_train_scaled, X_val_scaled, X_test_scaled, \n",
    "    y_train, y_val, y_test\n",
    ")\n"
   ]
  },
  {
   "cell_type": "markdown",
   "id": "1f638137",
   "metadata": {},
   "source": [
    "## Random Forest Classifier"
   ]
  },
  {
   "cell_type": "code",
   "execution_count": 59,
   "id": "2151a46f",
   "metadata": {
    "execution": {
     "iopub.execute_input": "2025-06-29T00:53:27.341020Z",
     "iopub.status.busy": "2025-06-29T00:53:27.340922Z",
     "iopub.status.idle": "2025-06-29T00:53:31.506922Z",
     "shell.execute_reply": "2025-06-29T00:53:31.506595Z"
    }
   },
   "outputs": [
    {
     "name": "stdout",
     "output_type": "stream",
     "text": [
      "\n",
      "Evaluating: Random Forest\n",
      "****************************\n",
      "Training Accuracy:   0.9999\n",
      "Validation Accuracy: 1.0000\n",
      "Test Accuracy:       1.0000\n",
      "Training F1:         0.9999\n",
      "Validation F1:       1.0000\n",
      "Test F1:             1.0000\n",
      "CV F1 Score:         1.0000 (±0.0001)\n",
      "Training Time:       0.648s\n",
      "*** Good generalization: -0.0000 gap between train/val\n"
     ]
    }
   ],
   "source": [
    "rf_model = RandomForestClassifier(\n",
    "    n_estimators=100,\n",
    "    max_depth=20,\n",
    "    min_samples_split=50,\n",
    "    min_samples_leaf=20,\n",
    "    max_features='sqrt',\n",
    "    random_state=42,\n",
    "    n_jobs=-1\n",
    ")\n",
    "results['Random Forest'] = model_evaluation(\n",
    "    'Random Forest', rf_model, \n",
    "    X_train_scaled, X_val_scaled, X_test_scaled, \n",
    "    y_train, y_val, y_test\n",
    ")\n"
   ]
  },
  {
   "cell_type": "markdown",
   "id": "c595e9ec",
   "metadata": {},
   "source": [
    "## K-Nearest Neighbors Classifier"
   ]
  },
  {
   "cell_type": "code",
   "execution_count": 60,
   "id": "fa0cbe76",
   "metadata": {
    "execution": {
     "iopub.execute_input": "2025-06-29T00:53:31.508292Z",
     "iopub.status.busy": "2025-06-29T00:53:31.508187Z",
     "iopub.status.idle": "2025-06-29T00:53:32.958717Z",
     "shell.execute_reply": "2025-06-29T00:53:32.958368Z"
    }
   },
   "outputs": [
    {
     "name": "stdout",
     "output_type": "stream",
     "text": [
      "Using sample of 30,000 samples for KNN training\n",
      "\n",
      "Evaluating: KNN\n",
      "******************\n",
      "Training Accuracy:   1.0000\n",
      "Validation Accuracy: 0.9973\n",
      "Test Accuracy:       0.9975\n",
      "Training F1:         1.0000\n",
      "Validation F1:       0.9976\n",
      "Test F1:             0.9978\n",
      "CV F1 Score:         0.9974 (±0.0006)\n",
      "Training Time:       0.001s\n",
      "*** Good generalization: 0.0027 gap between train/val\n"
     ]
    }
   ],
   "source": [
    "knn_sample_size = 30000\n",
    "if len(X_train_scaled) > knn_sample_size:\n",
    "    np.random.seed(42)\n",
    "    knn_indices = np.random.choice(len(X_train_scaled), knn_sample_size, replace=False)\n",
    "    X_train_knn = X_train_scaled[knn_indices]\n",
    "    y_train_knn = np.array(y_train)[knn_indices]\n",
    "    print(f\"Using sample of {knn_sample_size:,} samples for KNN training\")\n",
    "else:\n",
    "    X_train_knn = X_train_scaled\n",
    "    y_train_knn = y_train\n",
    "\n",
    "knn_model = KNeighborsClassifier(\n",
    "    n_neighbors=5,\n",
    "    weights='distance',\n",
    "    algorithm='auto',\n",
    "    n_jobs=-1\n",
    ")\n",
    "\n",
    "results['KNN'] = model_evaluation(\n",
    "    'KNN', knn_model, \n",
    "    X_train_knn, X_val_scaled, X_test_scaled, \n",
    "    y_train_knn, y_val, y_test\n",
    ")\n"
   ]
  },
  {
   "cell_type": "markdown",
   "id": "70927e54",
   "metadata": {},
   "source": [
    "## Model Comparison"
   ]
  },
  {
   "cell_type": "code",
   "execution_count": 61,
   "id": "4ed16740",
   "metadata": {
    "execution": {
     "iopub.execute_input": "2025-06-29T00:53:32.963638Z",
     "iopub.status.busy": "2025-06-29T00:53:32.963537Z",
     "iopub.status.idle": "2025-06-29T00:53:32.968161Z",
     "shell.execute_reply": "2025-06-29T00:53:32.967899Z"
    }
   },
   "outputs": [
    {
     "name": "stdout",
     "output_type": "stream",
     "text": [
      "\n",
      "Model Performance Ranking (by Validation F1-Score):\n",
      "-------------------------------------------------------\n",
      "1. 🟢 Random Forest      | Val F1: 1.0000 | Test F1: 1.0000 | Gap: -0.0000\n",
      "2. 🟢 Decision Tree      | Val F1: 0.9998 | Test F1: 0.9998 | Gap: 0.0001\n",
      "3. 🟢 KNN                | Val F1: 0.9976 | Test F1: 0.9978 | Gap: 0.0027\n",
      "               val_f1  test_f1  val_acc  test_acc  overfitting_gap  training_time\n",
      "Random Forest  1.0000   1.0000   1.0000    1.0000          -0.0000         0.6477\n",
      "Decision Tree  0.9998   0.9998   0.9998    0.9997           0.0001         0.2253\n",
      "KNN            0.9976   0.9978   0.9973    0.9975           0.0027         0.0014\n"
     ]
    }
   ],
   "source": [
    "results_df = pd.DataFrame(results).T\n",
    "results_df = results_df.round(4)\n",
    "\n",
    "results_df = results_df.sort_values('val_f1', ascending=False)\n",
    "\n",
    "print(\"\\nModel Performance Ranking (by Validation F1-Score):\")\n",
    "print(\"-\" * 55)\n",
    "for i, (model, row) in enumerate(results_df.iterrows(), 1):\n",
    "    status = \"🟢\" if row['overfitting_gap'] < 0.02 else \"🟡\" if row['overfitting_gap'] < 0.05 else \"🔴\"\n",
    "    print(f\"{i}. {status} {model:<18} | Val F1: {row['val_f1']:.4f} | Test F1: {row['test_f1']:.4f} | Gap: {row['overfitting_gap']:.4f}\")\n",
    "\n",
    "print(results_df[['val_f1', 'test_f1', 'val_acc', 'test_acc', 'overfitting_gap', 'training_time']].to_string())\n"
   ]
  },
  {
   "cell_type": "code",
   "execution_count": 62,
   "id": "ab24c3c1",
   "metadata": {
    "execution": {
     "iopub.execute_input": "2025-06-29T00:53:32.975147Z",
     "iopub.status.busy": "2025-06-29T00:53:32.975071Z",
     "iopub.status.idle": "2025-06-29T00:53:33.162907Z",
     "shell.execute_reply": "2025-06-29T00:53:33.162643Z"
    }
   },
   "outputs": [
    {
     "name": "stdout",
     "output_type": "stream",
     "text": [
      "\n",
      "📊 PERFORMANCE VISUALIZATION\n",
      "-----------------------------------\n"
     ]
    },
    {
     "data": {
      "image/png": "[encoded data removed]",
      "text/plain": [
       "<Figure size 1500x1000 with 4 Axes>"
      ]
     },
     "metadata": {},
     "output_type": "display_data"
    }
   ],
   "source": [
    "fig, ((ax1, ax2), (ax3, ax4)) = plt.subplots(2, 2, figsize=(15, 10))\n",
    "\n",
    "models = results_df.index\n",
    "val_f1 = results_df['val_f1']\n",
    "test_f1 = results_df['test_f1']\n",
    "\n",
    "x = np.arange(len(models))\n",
    "width = 0.35\n",
    "\n",
    "ax1.bar(x - width/2, val_f1, width, label='Validation F1', alpha=0.8, color='skyblue')\n",
    "ax1.bar(x + width/2, test_f1, width, label='Test F1', alpha=0.8, color='lightcoral')\n",
    "ax1.set_title('Validation vs Test F1-Score')\n",
    "ax1.set_ylabel('F1-Score')\n",
    "ax1.set_xticks(x)\n",
    "ax1.set_xticklabels(models, rotation=45)\n",
    "ax1.legend()\n",
    "ax1.grid(True, alpha=0.3)\n",
    "\n",
    "overfitting_gaps = results_df['overfitting_gap']\n",
    "colors = ['green' if gap < 0.02 else 'orange' if gap < 0.05 else 'red' for gap in overfitting_gaps]\n",
    "\n",
    "ax2.bar(models, overfitting_gaps, color=colors, alpha=0.7)\n",
    "ax2.axhline(y=0.02, color='orange', linestyle='--', alpha=0.7, label='Slight Overfitting')\n",
    "ax2.axhline(y=0.05, color='red', linestyle='--', alpha=0.7, label='Significant Overfitting')\n",
    "ax2.set_title('Overfitting Gap (Train - Validation Accuracy)')\n",
    "ax2.set_ylabel('Accuracy Gap')\n",
    "ax2.tick_params(axis='x', rotation=45)\n",
    "ax2.legend()\n",
    "ax2.grid(True, alpha=0.3)\n",
    "\n",
    "training_times = results_df['training_time']\n",
    "val_f1_scores = results_df['val_f1']\n",
    "\n",
    "colors = ['blue', 'green', 'red'][:len(models)]\n",
    "ax3.scatter(training_times, val_f1_scores, s=100, alpha=0.7, c=colors)\n",
    "for i, model in enumerate(models):\n",
    "    ax3.annotate(model, (training_times[i], val_f1_scores[i]), \n",
    "                xytext=(5, 5), textcoords='offset points', fontsize=9)\n",
    "ax3.set_title('Training Time vs Validation F1-Score')\n",
    "ax3.set_xlabel('Training Time (seconds)')\n",
    "ax3.set_ylabel('Validation F1-Score')\n",
    "ax3.grid(True, alpha=0.3)\n",
    "\n",
    "# 4. Model Comparison Radar-like Plot\n",
    "metrics = ['val_f1', 'test_f1', 'val_acc', 'test_acc']\n",
    "metric_names = ['Val F1', 'Test F1', 'Val Acc', 'Test Acc']\n",
    "\n",
    "ax4.set_title('Performance Metrics Comparison')\n",
    "for i, model in enumerate(models):\n",
    "    values = [results_df.loc[model, metric] for metric in metrics]\n",
    "    ax4.plot(metric_names, values, marker='o', label=model, linewidth=2, markersize=6)\n",
    "\n",
    "ax4.set_ylabel('Score')\n",
    "ax4.legend()\n",
    "ax4.grid(True, alpha=0.3)\n",
    "ax4.set_ylim(0.85, 1.0)  # Focus on the relevant range\n",
    "\n",
    "plt.tight_layout()\n",
    "plt.show()"
   ]
  }
 ],
 "metadata": {
  "kernelspec": {
   "display_name": "phishing-0NKtdish-py3.12",
   "language": "python",
   "name": "python3"
  },
  "language_info": {
   "codemirror_mode": {
    "name": "ipython",
    "version": 3
   },
   "file_extension": ".py",
   "mimetype": "text/x-python",
   "name": "python",
   "nbconvert_exporter": "python",
   "pygments_lexer": "ipython3",
   "version": "3.12.10"
  }
 },
 "nbformat": 4,
 "nbformat_minor": 5
}
